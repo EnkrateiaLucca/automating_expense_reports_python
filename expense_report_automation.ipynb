{
 "cells": [
  {
   "cell_type": "markdown",
   "metadata": {},
   "source": [
    "It used to be that employees had to file expense reports by hand, or at least draft them on a spreadsheet. Then computers came along, with built-in spreadsheets that made it easier to generate and track reports. But what if you could put all of your personnel through training on how to use such software and automate the reports? "
   ]
  },
  {
   "cell_type": "markdown",
   "metadata": {},
   "source": [
    "In this article I will show you the steps to automate expense reports using Python.\n",
    "\n",
    "---"
   ]
  },
  {
   "cell_type": "markdown",
   "metadata": {},
   "source": [
    "# Steps\n",
    "\n",
    "The steps to automate expense reports will be:\n",
    "\n",
    "1. Create an account on the [mindee](https://platform.mindee.com/) platform\n",
    "2. Set up an API key\n",
    "3. Install the \"mindee\" package\n",
    "4. Import dependencies\n",
    "5. Write helper functions\n",
    "6. Load, Parse and Extract the Data from the Expense Receipts \n",
    "7. Export Results to a Table\n",
    "8. Save Table to `.csv` File\n",
    "\n",
    "Let's get started!\n",
    "\n",
    "---"
   ]
  },
  {
   "cell_type": "markdown",
   "metadata": {},
   "source": [
    "## 1. Create an Account on the [mindee](https://platform.mindee.com/) Platform\n",
    "\n",
    "For this automation in order to avoid having to write custom code for detecting the text in the images of the receipts, what we will do is use the `mindee` package which comes with an API that allows you to do all of that with only a few lines of code. Although a professional version of this package is paid, they offer 250 pages a month for free, which for individuals should be more than enough to automate their personal expense reports. \n",
    "\n",
    "To create the account do the following:\n",
    "\n",
    "1. Head over to the [`mindee` platform website](https://platform.mindee.com/)\n",
    "2. Sign up"
   ]
  },
  {
   "cell_type": "markdown",
   "metadata": {},
   "source": [
    "## 2. Set up an API Key\n",
    "\n",
    "To set your API key just do the following:\n",
    "\n",
    "1. Click on \"Create a new API\"\n",
    "2. Select the \"Expense Receipt\" API\n",
    "3. Copy your API key and save it."
   ]
  },
  {
   "cell_type": "markdown",
   "metadata": {},
   "source": [
    "## 3. Install the 'mindee' Package\n",
    "\n",
    "To install the `mindee` package run:\n",
    "\n",
    "```\n",
    "pip install mindee\n",
    "```"
   ]
  },
  {
   "cell_type": "markdown",
   "metadata": {},
   "source": [
    "## 4. Import Dependencies\n",
    "\n",
    "For this project we will be using the following packages: \n",
    "- `mindee`\n",
    "- `pandas`\n",
    "- `random`\n",
    "- `glob`\n",
    "- `matplotlib`\n",
    "- `seaborn`\n",
    "\n",
    "If you dont have them in your local environment, install them with `pip install <package>`.\n",
    "\n",
    "Now we can import our dependencies:\n"
   ]
  },
  {
   "cell_type": "code",
   "execution_count": 1,
   "metadata": {},
   "outputs": [
    {
     "name": "stderr",
     "output_type": "stream",
     "text": [
      "INFO:numexpr.utils:Note: NumExpr detected 12 cores but \"NUMEXPR_MAX_THREADS\" not set, so enforcing safe limit of 8.\n",
      "INFO:numexpr.utils:NumExpr defaulting to 8 threads.\n"
     ]
    }
   ],
   "source": [
    "from mindee import Client, documents\n",
    "import random\n",
    "import pandas as pd\n",
    "import glob\n",
    "# Sanity Check using pandas and matplotlib\n",
    "import matplotlib.pyplot as plt\n",
    "import seaborn as sns\n",
    "sns.set()"
   ]
  },
  {
   "cell_type": "markdown",
   "metadata": {},
   "source": [
    "## 5. Write Helper Functions \n",
    "\n",
    "\n",
    "For this automation we will need 3 helper functions: one for extracting the \n",
    "expense data after getting the response frmo the `mindee` API, another for \n",
    "converting time to meal type (in this example my expense reports involve having \n",
    "to explicit lunch or dinner for food expenses) and finally another function\n",
    "for creating the final table with all of our data.\n",
    "\n",
    "The code will be:"
   ]
  },
  {
   "cell_type": "code",
   "execution_count": 2,
   "metadata": {},
   "outputs": [
    {
     "name": "stdout",
     "output_type": "stream",
     "text": [
      "['13:51', '11:49', '22:13', '19:57', '10:32', '20:47', '20:40', '14:27', '14:41', '15:06']\n",
      "13:51 Lunch\n",
      "11:49 Lunch\n",
      "22:13 Dinner\n",
      "19:57 Dinner\n",
      "10:32 Lunch\n",
      "20:47 Dinner\n",
      "20:40 Dinner\n",
      "14:27 Lunch\n",
      "14:41 Lunch\n",
      "15:06 Lunch\n"
     ]
    },
    {
     "data": {
      "text/html": [
       "<div>\n",
       "<style scoped>\n",
       "    .dataframe tbody tr th:only-of-type {\n",
       "        vertical-align: middle;\n",
       "    }\n",
       "\n",
       "    .dataframe tbody tr th {\n",
       "        vertical-align: top;\n",
       "    }\n",
       "\n",
       "    .dataframe thead th {\n",
       "        text-align: right;\n",
       "    }\n",
       "</style>\n",
       "<table border=\"1\" class=\"dataframe\">\n",
       "  <thead>\n",
       "    <tr style=\"text-align: right;\">\n",
       "      <th></th>\n",
       "      <th>date</th>\n",
       "      <th>amount</th>\n",
       "      <th>meal_type</th>\n",
       "      <th>time</th>\n",
       "      <th>category</th>\n",
       "      <th>filename</th>\n",
       "    </tr>\n",
       "  </thead>\n",
       "  <tbody>\n",
       "    <tr>\n",
       "      <th>0</th>\n",
       "      <td>2021-01-01</td>\n",
       "      <td>10</td>\n",
       "      <td>Lunch</td>\n",
       "      <td>10:00</td>\n",
       "      <td>Food</td>\n",
       "      <td>file1</td>\n",
       "    </tr>\n",
       "    <tr>\n",
       "      <th>1</th>\n",
       "      <td>2021-01-02</td>\n",
       "      <td>20</td>\n",
       "      <td>Dinner</td>\n",
       "      <td>20:00</td>\n",
       "      <td>Food</td>\n",
       "      <td>file2</td>\n",
       "    </tr>\n",
       "  </tbody>\n",
       "</table>\n",
       "</div>"
      ],
      "text/plain": [
       "         date  amount meal_type   time category filename\n",
       "0  2021-01-01      10     Lunch  10:00     Food    file1\n",
       "1  2021-01-02      20    Dinner  20:00     Food    file2"
      ]
     },
     "execution_count": 2,
     "metadata": {},
     "output_type": "execute_result"
    }
   ],
   "source": [
    "# Helper functions to extract the information I want\n",
    "def extract_expenses_data(api_response):\n",
    "    \"\"\"\n",
    "    Extracts the data from the response returned by the \n",
    "    mindee API. In this case we extract, the data of the receipt,\n",
    "    the category (like food, transport, etc..) the time of the processing of the\n",
    "    receipt as well as the total amount and the filename of the image. \n",
    "    \"\"\"\n",
    "    date = api_response.date.value\n",
    "    category = api_response.category.value\n",
    "    time = api_response.time.value\n",
    "    amount = api_response.total_amount.value\n",
    "    filename = api_response.filename\n",
    "    \n",
    "    return date, amount, filename, category, time\n",
    "\n",
    "def convert_time_to_meal_type(time, hour_max = 17, hour_min=6):\n",
    "    \"\"\"\n",
    "    This function takes as input a string `time` and returns\n",
    "    whether that time slot corresponds to dinner or lunch given a threshold\n",
    "    variable separating dinner and lunch times.\n",
    "    \"\"\"\n",
    "    hour_digits = time[:2]\n",
    "    if int(hour_digits)<hour_max and int(hour_digits)>hour_min:\n",
    "        meal_type = \"Lunch\"\n",
    "    else:\n",
    "        meal_type = \"Dinner\"\n",
    "    \n",
    "    return meal_type\n",
    "    \n",
    "\n",
    "# Code for testing the `convert_time_to_meal_type()` function.\n",
    "hours_for_test = [str(random.randint(10,23)).zfill(2) + \":\" + str(random.randint(0,59)).zfill(2) for i in range(10)]\n",
    "print(hours_for_test)\n",
    "for hour in  hours_for_test:\n",
    "    print(hour, convert_time_to_meal_type(hour))\n",
    "\n",
    "\n",
    "def create_table(date_list,amount_list,meal_type, time_list,category_list, filenames_list):\n",
    "    \"\"\"\n",
    "    This functions takes as input 6 lists for date, amount, meal type, time,\n",
    "    category and filename. It returns a pandas dataframe with the data\n",
    "    structured as a table.\n",
    "    \"\"\"\n",
    "    df = pd.DataFrame(\n",
    "        {\"date\":date_list, \"amount\":amount_list, \"meal_type\":meal_type, \n",
    "         \"time\":time_list, \"category\":category_list, \"filename\":filenames_list}\n",
    "    )\n",
    "    return df\n",
    "\n",
    "# Testing the `create_table` function\n",
    "create_table([\"2021-01-01\",\"2021-01-02\"],[10,20],[\"Lunch\",\"Dinner\"],[\"10:00\",\"20:00\"],[\"Food\",\"Food\"],[\"file1\",\"file2\"])"
   ]
  },
  {
   "cell_type": "markdown",
   "metadata": {},
   "source": [
    "## 6. Load, Parse and Extract the Data from the Expense Receipts\n",
    "\n",
    "Now, all we have to do is:\n",
    "\n",
    "1. **Instantiate our *mindee* client using the API key we obtained**"
   ]
  },
  {
   "cell_type": "code",
   "execution_count": 3,
   "metadata": {},
   "outputs": [],
   "source": [
    "# Instantiate a new client\n",
    "mindee_client = Client(api_key=\"Your API KEY\")"
   ]
  },
  {
   "cell_type": "markdown",
   "metadata": {},
   "source": [
    "2. **Initialize some empty lists that will contain the data extracted**\n"
   ]
  },
  {
   "cell_type": "code",
   "execution_count": 4,
   "metadata": {},
   "outputs": [],
   "source": [
    "date_list = []\n",
    "amount_list = []\n",
    "category_list = []\n",
    "time_list = []\n",
    "meal_type_list = []\n",
    "filenames_list = []"
   ]
  },
  {
   "cell_type": "markdown",
   "metadata": {},
   "source": [
    "3. **Load image of expense receipt and feed it to the mindee api**"
   ]
  },
  {
   "cell_type": "code",
   "execution_count": 7,
   "metadata": {},
   "outputs": [
    {
     "data": {
      "text/plain": [
       "<mindee.documents.receipt.receipt_v4.ReceiptV4 at 0x7f9685b278b0>"
      ]
     },
     "execution_count": 7,
     "metadata": {},
     "output_type": "execute_result"
    }
   ],
   "source": [
    "image = \"./expense_images/1669895159779.jpg\"\n",
    "input_doc = mindee_client.doc_from_path(image)\n",
    "api_response = input_doc.parse(documents.TypeReceiptV4)\n",
    "expense_data = api_response.document\n",
    "expense_data"
   ]
  },
  {
   "cell_type": "markdown",
   "metadata": {},
   "source": [
    "The output will be a mindee object that is tailored for expense receipts\n",
    "(there are probably a few options so feel free to investigate that in the official\n",
    "documentation in the mindee platform)."
   ]
  },
  {
   "cell_type": "markdown",
   "metadata": {},
   "source": [
    "4. **Extract the expenses information from the api response**"
   ]
  },
  {
   "cell_type": "code",
   "execution_count": 8,
   "metadata": {},
   "outputs": [],
   "source": [
    "date, amount, filename, category, time = extract_expenses_data(expense_data)"
   ]
  },
  {
   "cell_type": "markdown",
   "metadata": {},
   "source": [
    "5. **Convert the time of day information into relevant meal type information**\n",
    "\n",
    "This example is very specific to my particular case, so you might change this \n",
    "function according to the types of expenses you have. But here, what I am doing\n",
    "is transforming a string like `13:30` to lunch and a string like `20:30`\n",
    "to dinner."
   ]
  },
  {
   "cell_type": "code",
   "execution_count": 11,
   "metadata": {},
   "outputs": [],
   "source": [
    "if not time:\n",
    "        meal_type = \"Unknown\"\n",
    "else:\n",
    "    meal_type = convert_time_to_meal_type(time)"
   ]
  },
  {
   "cell_type": "markdown",
   "metadata": {},
   "source": [
    "6. **Append the extracted information to their corresopnding lists**\n",
    "\n",
    "In this case I am only doing for a single receipt, but when doing for\n",
    "multiple receipts the list approach will make more sense."
   ]
  },
  {
   "cell_type": "code",
   "execution_count": 12,
   "metadata": {},
   "outputs": [],
   "source": [
    "date_list.append(date)\n",
    "# I am replacing the . for , here because the final report goes on\n",
    "# a google sheet which takes `,` instead of `.` for float numbers.\n",
    "amount_list.append(str(amount).replace(\".\", \",\"))\n",
    "category_list.append(category)\n",
    "time_list.append(time)\n",
    "meal_type_list.append(meal_type)\n",
    "filenames_list.append(filename)"
   ]
  },
  {
   "cell_type": "markdown",
   "metadata": {},
   "source": [
    "## 7. Export Results to a Table\n",
    "\n",
    "Now that we have the data organized, we can create a table with the structured \n",
    "data."
   ]
  },
  {
   "cell_type": "code",
   "execution_count": 13,
   "metadata": {},
   "outputs": [
    {
     "data": {
      "text/html": [
       "<div>\n",
       "<style scoped>\n",
       "    .dataframe tbody tr th:only-of-type {\n",
       "        vertical-align: middle;\n",
       "    }\n",
       "\n",
       "    .dataframe tbody tr th {\n",
       "        vertical-align: top;\n",
       "    }\n",
       "\n",
       "    .dataframe thead th {\n",
       "        text-align: right;\n",
       "    }\n",
       "</style>\n",
       "<table border=\"1\" class=\"dataframe\">\n",
       "  <thead>\n",
       "    <tr style=\"text-align: right;\">\n",
       "      <th></th>\n",
       "      <th>date</th>\n",
       "      <th>amount</th>\n",
       "      <th>meal_type</th>\n",
       "      <th>time</th>\n",
       "      <th>category</th>\n",
       "      <th>filename</th>\n",
       "    </tr>\n",
       "  </thead>\n",
       "  <tbody>\n",
       "    <tr>\n",
       "      <th>0</th>\n",
       "      <td>2022-11-26</td>\n",
       "      <td>32,25</td>\n",
       "      <td>Dinner</td>\n",
       "      <td>23:35</td>\n",
       "      <td>food</td>\n",
       "      <td>1669895159779.jpg</td>\n",
       "    </tr>\n",
       "  </tbody>\n",
       "</table>\n",
       "</div>"
      ],
      "text/plain": [
       "         date amount meal_type   time category           filename\n",
       "0  2022-11-26  32,25    Dinner  23:35     food  1669895159779.jpg"
      ]
     },
     "execution_count": 13,
     "metadata": {},
     "output_type": "execute_result"
    }
   ],
   "source": [
    "# The format of the table will be | data | amount | filename | category |\n",
    "df = create_table(date_list,amount_list,meal_type_list, time_list,category_list, \n",
    "                  filenames_list)\n",
    "\n",
    "# show the table to check\n",
    "df"
   ]
  },
  {
   "cell_type": "markdown",
   "metadata": {},
   "source": [
    "## 8. Save Table to `.csv` File\n",
    "\n",
    "Now to finish things off we save that table with all the information we\n",
    "wanted from the expense receipts."
   ]
  },
  {
   "cell_type": "code",
   "execution_count": null,
   "metadata": {},
   "outputs": [],
   "source": [
    "df.to_csv(\"expense_table.csv\", header=False)"
   ]
  },
  {
   "cell_type": "markdown",
   "metadata": {},
   "source": [
    "---"
   ]
  },
  {
   "cell_type": "markdown",
   "metadata": {},
   "source": [
    "# Bringing Everything Together\n",
    "\n",
    "Now that we know each step in detail, the entire source code for running this \n",
    "on multiple expense receipts:"
   ]
  },
  {
   "cell_type": "code",
   "execution_count": 20,
   "metadata": {},
   "outputs": [
    {
     "data": {
      "text/html": [
       "<div>\n",
       "<style scoped>\n",
       "    .dataframe tbody tr th:only-of-type {\n",
       "        vertical-align: middle;\n",
       "    }\n",
       "\n",
       "    .dataframe tbody tr th {\n",
       "        vertical-align: top;\n",
       "    }\n",
       "\n",
       "    .dataframe thead th {\n",
       "        text-align: right;\n",
       "    }\n",
       "</style>\n",
       "<table border=\"1\" class=\"dataframe\">\n",
       "  <thead>\n",
       "    <tr style=\"text-align: right;\">\n",
       "      <th></th>\n",
       "      <th>date</th>\n",
       "      <th>amount</th>\n",
       "      <th>meal_type</th>\n",
       "      <th>time</th>\n",
       "      <th>category</th>\n",
       "      <th>filename</th>\n",
       "    </tr>\n",
       "  </thead>\n",
       "  <tbody>\n",
       "    <tr>\n",
       "      <th>0</th>\n",
       "      <td>2022-11-10</td>\n",
       "      <td>24,9</td>\n",
       "      <td>Lunch</td>\n",
       "      <td>14:19</td>\n",
       "      <td>food</td>\n",
       "      <td>1669895159846.jpg</td>\n",
       "    </tr>\n",
       "    <tr>\n",
       "      <th>1</th>\n",
       "      <td>2022-11-08</td>\n",
       "      <td>18,55</td>\n",
       "      <td>Dinner</td>\n",
       "      <td>20:15</td>\n",
       "      <td>food</td>\n",
       "      <td>1669895159855.jpg</td>\n",
       "    </tr>\n",
       "    <tr>\n",
       "      <th>2</th>\n",
       "      <td>2022-11-26</td>\n",
       "      <td>32,25</td>\n",
       "      <td>Dinner</td>\n",
       "      <td>23:35</td>\n",
       "      <td>food</td>\n",
       "      <td>1669895159779.jpg</td>\n",
       "    </tr>\n",
       "    <tr>\n",
       "      <th>3</th>\n",
       "      <td>2022-11-10</td>\n",
       "      <td>86,75</td>\n",
       "      <td>Unknown</td>\n",
       "      <td>None</td>\n",
       "      <td>food</td>\n",
       "      <td>1669895159837.jpg</td>\n",
       "    </tr>\n",
       "    <tr>\n",
       "      <th>4</th>\n",
       "      <td>2022-10-29</td>\n",
       "      <td>41,73</td>\n",
       "      <td>Dinner</td>\n",
       "      <td>18:37</td>\n",
       "      <td>food</td>\n",
       "      <td>1669895159872.jpg</td>\n",
       "    </tr>\n",
       "    <tr>\n",
       "      <th>5</th>\n",
       "      <td>2022-10-30</td>\n",
       "      <td>23,9</td>\n",
       "      <td>Lunch</td>\n",
       "      <td>12:59</td>\n",
       "      <td>food</td>\n",
       "      <td>1669895159864.jpg</td>\n",
       "    </tr>\n",
       "    <tr>\n",
       "      <th>6</th>\n",
       "      <td>2022-11-24</td>\n",
       "      <td>11,55</td>\n",
       "      <td>Dinner</td>\n",
       "      <td>20:28</td>\n",
       "      <td>food</td>\n",
       "      <td>1669895159808.jpg</td>\n",
       "    </tr>\n",
       "    <tr>\n",
       "      <th>7</th>\n",
       "      <td>2022-10-23</td>\n",
       "      <td>9,4</td>\n",
       "      <td>Dinner</td>\n",
       "      <td>17:00</td>\n",
       "      <td>food</td>\n",
       "      <td>1669895159908.jpg</td>\n",
       "    </tr>\n",
       "    <tr>\n",
       "      <th>8</th>\n",
       "      <td>2022-11-25</td>\n",
       "      <td>14,6</td>\n",
       "      <td>Dinner</td>\n",
       "      <td>20:11</td>\n",
       "      <td>food</td>\n",
       "      <td>1669895159796.jpg</td>\n",
       "    </tr>\n",
       "    <tr>\n",
       "      <th>9</th>\n",
       "      <td>2022-10-27</td>\n",
       "      <td>12,0</td>\n",
       "      <td>Lunch</td>\n",
       "      <td>16:22</td>\n",
       "      <td>food</td>\n",
       "      <td>1669895159880.jpg</td>\n",
       "    </tr>\n",
       "    <tr>\n",
       "      <th>10</th>\n",
       "      <td>2022-10-25</td>\n",
       "      <td>12,6</td>\n",
       "      <td>Dinner</td>\n",
       "      <td>21:07</td>\n",
       "      <td>food</td>\n",
       "      <td>1669895159890.jpg</td>\n",
       "    </tr>\n",
       "    <tr>\n",
       "      <th>11</th>\n",
       "      <td>2022-11-12</td>\n",
       "      <td>21,1</td>\n",
       "      <td>Dinner</td>\n",
       "      <td>19:39</td>\n",
       "      <td>food</td>\n",
       "      <td>1669895159828.jpg</td>\n",
       "    </tr>\n",
       "    <tr>\n",
       "      <th>12</th>\n",
       "      <td>2022-10-23</td>\n",
       "      <td>15,2</td>\n",
       "      <td>Dinner</td>\n",
       "      <td>20:32</td>\n",
       "      <td>food</td>\n",
       "      <td>1669895159899.jpg</td>\n",
       "    </tr>\n",
       "    <tr>\n",
       "      <th>13</th>\n",
       "      <td>2022-11-15</td>\n",
       "      <td>12,7</td>\n",
       "      <td>Dinner</td>\n",
       "      <td>18:38</td>\n",
       "      <td>food</td>\n",
       "      <td>1669895159819.jpg</td>\n",
       "    </tr>\n",
       "  </tbody>\n",
       "</table>\n",
       "</div>"
      ],
      "text/plain": [
       "          date amount meal_type   time category           filename\n",
       "0   2022-11-10   24,9     Lunch  14:19     food  1669895159846.jpg\n",
       "1   2022-11-08  18,55    Dinner  20:15     food  1669895159855.jpg\n",
       "2   2022-11-26  32,25    Dinner  23:35     food  1669895159779.jpg\n",
       "3   2022-11-10  86,75   Unknown   None     food  1669895159837.jpg\n",
       "4   2022-10-29  41,73    Dinner  18:37     food  1669895159872.jpg\n",
       "5   2022-10-30   23,9     Lunch  12:59     food  1669895159864.jpg\n",
       "6   2022-11-24  11,55    Dinner  20:28     food  1669895159808.jpg\n",
       "7   2022-10-23    9,4    Dinner  17:00     food  1669895159908.jpg\n",
       "8   2022-11-25   14,6    Dinner  20:11     food  1669895159796.jpg\n",
       "9   2022-10-27   12,0     Lunch  16:22     food  1669895159880.jpg\n",
       "10  2022-10-25   12,6    Dinner  21:07     food  1669895159890.jpg\n",
       "11  2022-11-12   21,1    Dinner  19:39     food  1669895159828.jpg\n",
       "12  2022-10-23   15,2    Dinner  20:32     food  1669895159899.jpg\n",
       "13  2022-11-15   12,7    Dinner  18:38     food  1669895159819.jpg"
      ]
     },
     "execution_count": 20,
     "metadata": {},
     "output_type": "execute_result"
    }
   ],
   "source": [
    "# Run the main loop for the automation\n",
    "\n",
    "# Instantiate a new client\n",
    "mindee_client = Client(api_key=\"Your API KEY\")\n",
    "\n",
    "date_list = []\n",
    "amount_list = []\n",
    "category_list = []\n",
    "time_list = []\n",
    "meal_type_list = []\n",
    "filenames_list = []\n",
    "for image in glob.glob(\"./expense_images/*\"):\n",
    "    input_doc = mindee_client.doc_from_path(image)\n",
    "    api_response = input_doc.parse(documents.TypeReceiptV4)\n",
    "    expense_data = api_response.document\n",
    "    date, amount, filename, category, time = extract_expenses_data(expense_data)\n",
    "    if not time:\n",
    "        meal_type = \"Unknown\"\n",
    "    else:\n",
    "        meal_type = convert_time_to_meal_type(time)\n",
    "    \n",
    "    date_list.append(date)\n",
    "    amount_list.append(str(amount).replace(\".\", \",\"))\n",
    "    category_list.append(category)\n",
    "    time_list.append(time)\n",
    "    meal_type_list.append(meal_type)\n",
    "    filenames_list.append(filename)\n",
    "\n",
    "\n",
    "# the model of the final table will be:\n",
    "\n",
    "# | data | valor | filename | category |\n",
    "df = create_table(date_list,amount_list,meal_type_list, time_list,category_list, \n",
    "                  filenames_list)\n",
    "\n",
    "# sort values in the table by meal type (specific to my use case)\n",
    "df.sort_values(by=\"meal_type\").to_csv(\"expense_table.csv\", header=False)\n",
    "\n",
    "# show the table to check\n",
    "df"
   ]
  },
  {
   "cell_type": "markdown",
   "metadata": {},
   "source": [
    "THere you have it! You automated the boring task of reporting your expenses\n",
    "from images of receipts! As a final check, it's always good to take a look at the \n",
    "final results to make sure the information you are getting is consistent with the\n",
    "actual data in the expense receipts. For that we can visualize the receipts,\n",
    "side by side with the text data obtained from the extraction for each expense\n",
    "receipt using matplotlib."
   ]
  },
  {
   "cell_type": "code",
   "execution_count": 14,
   "metadata": {},
   "outputs": [],
   "source": [
    "# Loop over the filenames and visualize the images side by side with the\n",
    "# data extracted\n",
    "for i,filename in enumerate(df.filename):\n",
    "    image = plt.imread(f\"./expense_images/{filename}\")\n",
    "    plt.figure(figsize=(15,10))\n",
    "    plt.imshow(image)\n",
    "    date = df[df[\"filename\"]==filename][\"date\"]\n",
    "    amount = df[df[\"filename\"]==filename][\"amount\"]\n",
    "    meal_type = df[df[\"filename\"]==filename][\"meal_type\"]\n",
    "    time = df[df[\"filename\"]==filename][\"time\"]\n",
    "    plt.title(f\"date: {date} amount: {amount} meal_type: {meal_type} time: {time}\")\n",
    "    plt.show()\n",
    "    input(\"Continue?\")"
   ]
  },
  {
   "cell_type": "markdown",
   "metadata": {},
   "source": [
    "*I will be showing just a couple of images with restricted information for privacy reasons\n",
    "but the overall idea is here*.\n",
    "\n",
    "Ok, the results seem consistent! There we have it, a neat automation to save you\n",
    "some time every month!\n",
    "\n",
    "---"
   ]
  },
  {
   "cell_type": "markdown",
   "metadata": {},
   "source": [
    "# Final Thoughts on Automating Everything"
   ]
  },
  {
   "cell_type": "markdown",
   "metadata": {},
   "source": [
    "If you're a manager, developer, accountant or pretty much anyone who works with data entry of some kind, this approach  may be very useful to you. For one thing, it clearly shows that automation in the workplace is possible with just a few lines of Python code. \n",
    "\n",
    "Why not use a simple program to automate your expense report processing? This way you can save time and eliminate human error. Automating repetitive tasks like these can save you quite a bit of time and it opens the door to streamline your entire workflow."
   ]
  },
  {
   "cell_type": "markdown",
   "metadata": {},
   "source": []
  },
  {
   "cell_type": "markdown",
   "metadata": {},
   "source": []
  }
 ],
 "metadata": {
  "hide_input": false,
  "kernelspec": {
   "display_name": "Python 3 (ipykernel)",
   "language": "python",
   "name": "python3"
  },
  "language_info": {
   "codemirror_mode": {
    "name": "ipython",
    "version": 3
   },
   "file_extension": ".py",
   "mimetype": "text/x-python",
   "name": "python",
   "nbconvert_exporter": "python",
   "pygments_lexer": "ipython3",
   "version": "3.9.7"
  },
  "toc": {
   "base_numbering": 1,
   "nav_menu": {},
   "number_sections": true,
   "sideBar": true,
   "skip_h1_title": false,
   "title_cell": "Table of Contents",
   "title_sidebar": "Contents",
   "toc_cell": false,
   "toc_position": {},
   "toc_section_display": true,
   "toc_window_display": false
  },
  "vscode": {
   "interpreter": {
    "hash": "3f6c7e23809e413659daa8f941a7cdb9a2ec2a8ced2a580cb124be55e4a845de"
   }
  }
 },
 "nbformat": 4,
 "nbformat_minor": 2
}
